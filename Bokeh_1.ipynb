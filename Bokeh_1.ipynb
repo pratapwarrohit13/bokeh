{
 "cells": [
  {
   "cell_type": "code",
   "execution_count": 1,
   "metadata": {},
   "outputs": [],
   "source": [
    "from bokeh.models import Button, ColumnDataSource\n",
    "from bokeh.io import curdoc\n",
    "from bokeh.layouts import row\n",
    "from bokeh.plotting import figure\n",
    "from numpy.random import random, normal\n",
    "import numpy as np"
   ]
  },
  {
   "cell_type": "code",
   "execution_count": 2,
   "metadata": {},
   "outputs": [],
   "source": [
    "initial_points = 500\n",
    "\n",
    "data_points = ColumnDataSource(data = {'x': random(initial_points), 'y': random(initial_points)})"
   ]
  },
  {
   "cell_type": "code",
   "execution_count": 3,
   "metadata": {},
   "outputs": [],
   "source": [
    "plot = figure(title = \"Data change application\")\n",
    "\n",
    "plot.diamond(x = 'x', y = 'y', source = data_points, color = 'red')\n",
    "\n",
    "#Create the button widget\n",
    "\n",
    "button_widget = Button(label = 'Change Data')"
   ]
  },
  {
   "cell_type": "code",
   "execution_count": 4,
   "metadata": {},
   "outputs": [],
   "source": [
    "def callback():\n",
    "    \n",
    "    #New y values \n",
    "    \n",
    "    y = np.cos(initial_points) + random(initial_points)\n",
    "    \n",
    "    data_points.data = {'x': random(initial_points), 'y': y}"
   ]
  },
  {
   "cell_type": "code",
   "execution_count": 5,
   "metadata": {},
   "outputs": [],
   "source": [
    "button_widget.on_click(callback)\n",
    " \n",
    "#Create a layout for the application\n",
    "\n",
    "layout = row(button_widget, plot)\n",
    "\n",
    "#Add the layout to the application\n",
    "\n",
    "curdoc().add_root(layout)"
   ]
  },
  {
   "cell_type": "code",
   "execution_count": null,
   "metadata": {},
   "outputs": [],
   "source": []
  }
 ],
 "metadata": {
  "kernelspec": {
   "display_name": "Python 3",
   "language": "python",
   "name": "python3"
  },
  "language_info": {
   "codemirror_mode": {
    "name": "ipython",
    "version": 3
   },
   "file_extension": ".py",
   "mimetype": "text/x-python",
   "name": "python",
   "nbconvert_exporter": "python",
   "pygments_lexer": "ipython3",
   "version": "3.8.5"
  }
 },
 "nbformat": 4,
 "nbformat_minor": 4
}
