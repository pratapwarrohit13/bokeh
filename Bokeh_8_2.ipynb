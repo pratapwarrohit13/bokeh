{
 "cells": [
  {
   "cell_type": "code",
   "execution_count": 1,
   "metadata": {},
   "outputs": [],
   "source": [
    "from bokeh.io import curdoc\n",
    "from bokeh.models import ColumnDataSource, CategoricalColorMapper\n",
    "from bokeh.plotting import figure\n",
    "from bokeh.palettes import Spectral5\n",
    "import pandas as pd"
   ]
  },
  {
   "cell_type": "code",
   "execution_count": 2,
   "metadata": {},
   "outputs": [],
   "source": [
    "df = pd.read_csv('D://DS//Stater_Projects//all_stocks_5yr.csv')"
   ]
  },
  {
   "cell_type": "code",
   "execution_count": 3,
   "metadata": {},
   "outputs": [],
   "source": [
    "df['date'] = pd.to_datetime(df['date']).apply(lambda x:x.strftime('%Y'))"
   ]
  },
  {
   "cell_type": "code",
   "execution_count": 4,
   "metadata": {},
   "outputs": [],
   "source": [
    "tech_giants = ['GOOGL', 'FB', 'MSFT', 'AMZN', 'AAPL']"
   ]
  },
  {
   "cell_type": "code",
   "execution_count": 5,
   "metadata": {},
   "outputs": [],
   "source": [
    "color_map = CategoricalColorMapper(factors = tech_giants, palette = Spectral5)\n",
    "\n",
    "#Create the ColumnDataSource Object\n",
    "\n",
    "data = ColumnDataSource(data = {\n",
    "    'high' : df[df['date'] == '2013'].high,\n",
    "    'low' : df[df['date'] == '2013'].low,\n",
    "    'open' : df[df['date'] == '2013'].open,\n",
    "    'close': df[df['date'] == '2013'].close,\n",
    "    'volume': df[df['date'] == '2013'].volume,\n",
    "    'Name' : df[df['date'] == '2013'].Name\n",
    "})\n",
    "\n",
    "#Create ranges for the x and y axis\n",
    "\n",
    "xmin, xmax = min(df.high), max(df.high)\n",
    "ymin, ymax = min(df.volume), max(df.volume)\n"
   ]
  },
  {
   "cell_type": "code",
   "execution_count": 6,
   "metadata": {},
   "outputs": [],
   "source": [
    "plot = figure(title = 'Volume traded Vs. High Prices', plot_height = 400, plot_width = 700, x_range = (xmin, xmax),\n",
    "             y_range = (ymin, ymax))\n",
    "\n",
    "plot.diamond(x = 'high', y = 'volume', source = data, color = dict(field = 'Name', transform = color_map))\n",
    "\n",
    "plot.xaxis.axis_label = 'High Prices for 2013'\n",
    "\n",
    "plot.yaxis.axis_label = 'Volume traded in 2013'\n",
    "\n",
    "#Add the plot to the application\n",
    "\n",
    "curdoc().add_root(plot)\n",
    "\n",
    "curdoc().title = 'Volume and High prices of stocks'"
   ]
  },
  {
   "cell_type": "code",
   "execution_count": null,
   "metadata": {},
   "outputs": [],
   "source": []
  }
 ],
 "metadata": {
  "kernelspec": {
   "display_name": "Python 3",
   "language": "python",
   "name": "python3"
  },
  "language_info": {
   "codemirror_mode": {
    "name": "ipython",
    "version": 3
   },
   "file_extension": ".py",
   "mimetype": "text/x-python",
   "name": "python",
   "nbconvert_exporter": "python",
   "pygments_lexer": "ipython3",
   "version": "3.8.5"
  }
 },
 "nbformat": 4,
 "nbformat_minor": 4
}
