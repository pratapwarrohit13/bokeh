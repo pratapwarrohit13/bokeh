{
 "cells": [
  {
   "cell_type": "code",
   "execution_count": 1,
   "metadata": {},
   "outputs": [],
   "source": [
    "from bokeh.models import CategoricalColorMapper\n",
    "from bokeh.models import HoverTool\n",
    "from bokeh.io import output_file, show\n",
    "from bokeh.plotting import ColumnDataSource\n",
    "from bokeh.plotting import figure\n",
    "import pandas as pd"
   ]
  },
  {
   "cell_type": "code",
   "execution_count": 2,
   "metadata": {},
   "outputs": [],
   "source": [
    "df = pd.read_csv('D://DS//Stater_Projects//all_stocks_5yr.csv')"
   ]
  },
  {
   "cell_type": "code",
   "execution_count": 3,
   "metadata": {},
   "outputs": [],
   "source": [
    "df_multiple = df[(df['Name'] == 'GOOGL') | (df['Name'] == 'USB')]"
   ]
  },
  {
   "cell_type": "code",
   "execution_count": 4,
   "metadata": {},
   "outputs": [],
   "source": [
    "hover_tool = HoverTool(tooltips = [\n",
    "    ('Stock Ticker', '@Name'),\n",
    "    ('High Price', '@high'),\n",
    "    ('Low Price', '@low')\n",
    "]) "
   ]
  },
  {
   "cell_type": "code",
   "execution_count": 5,
   "metadata": {},
   "outputs": [],
   "source": [
    "data = ColumnDataSource(df_multiple)"
   ]
  },
  {
   "cell_type": "code",
   "execution_count": 6,
   "metadata": {},
   "outputs": [],
   "source": [
    "category_map = CategoricalColorMapper(\n",
    "    factors = ['GOOGL', 'USB'], palette = ['blue', 'red'])"
   ]
  },
  {
   "cell_type": "markdown",
   "metadata": {},
   "source": [
    "plot = figure(tools = [hover_tool])\n",
    "\n",
    "plot.circle('high', 'low', size = 8, source = data, color = {'field': 'Name', 'transform': category_map})\n",
    "\n",
    "output_file('hover.html')\n",
    "\n",
    "show(plot)"
   ]
  },
  {
   "cell_type": "code",
   "execution_count": 7,
   "metadata": {},
   "outputs": [],
   "source": [
    "plot = figure(tools = 'box_select')\n",
    "\n",
    "plot.circle('high', 'low', size = 8, source = data, \n",
    "            color = {'field': 'Name', 'transform': category_map}, selection_color = 'green',\n",
    "           nonselection_fill_alpha = 0.3, nonselection_fill_color = 'grey')\n",
    "\n",
    "output_file('selection.html')\n",
    "\n",
    "show(plot)"
   ]
  },
  {
   "cell_type": "code",
   "execution_count": null,
   "metadata": {},
   "outputs": [],
   "source": []
  }
 ],
 "metadata": {
  "kernelspec": {
   "display_name": "Python 3",
   "language": "python",
   "name": "python3"
  },
  "language_info": {
   "codemirror_mode": {
    "name": "ipython",
    "version": 3
   },
   "file_extension": ".py",
   "mimetype": "text/x-python",
   "name": "python",
   "nbconvert_exporter": "python",
   "pygments_lexer": "ipython3",
   "version": "3.8.5"
  }
 },
 "nbformat": 4,
 "nbformat_minor": 4
}
