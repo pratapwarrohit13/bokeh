{
 "cells": [
  {
   "cell_type": "code",
   "execution_count": 28,
   "metadata": {},
   "outputs": [],
   "source": [
    "import math\n",
    "from bokeh.io import show, output_file\n",
    "from bokeh.plotting import figure\n",
    "from bokeh.models import GraphRenderer, StaticLayoutProvider, Oval\n",
    "import numpy as np\n",
    "from bokeh.io import export_png"
   ]
  },
  {
   "cell_type": "code",
   "execution_count": 2,
   "metadata": {},
   "outputs": [],
   "source": [
    "total_nodes = 10\n",
    "node_points = list(range(total_nodes))"
   ]
  },
  {
   "cell_type": "code",
   "execution_count": 3,
   "metadata": {},
   "outputs": [],
   "source": [
    "plot = figure(x_range=(-1.1,1.1), y_range=(-1.1,1.1))"
   ]
  },
  {
   "cell_type": "code",
   "execution_count": 4,
   "metadata": {},
   "outputs": [],
   "source": [
    "network = GraphRenderer()"
   ]
  },
  {
   "cell_type": "code",
   "execution_count": 5,
   "metadata": {},
   "outputs": [
    {
     "name": "stderr",
     "output_type": "stream",
     "text": [
      "BokehDeprecationWarning: 'Oval' is deprecated and will be removed in Bokeh 3.0, use the Ellipse glyph instead\n"
     ]
    }
   ],
   "source": [
    "network.node_renderer.data_source.add(node_points, 'index')\n",
    "network.node_renderer.glyph = Oval(height=0.2, width=0.3, fill_color='blue')\n",
    "network.edge_renderer.data_source.data = dict(start=[1]*total_nodes, end=node_points)"
   ]
  },
  {
   "cell_type": "code",
   "execution_count": 6,
   "metadata": {},
   "outputs": [],
   "source": [
    "node_circumference = [node*2*math.pi/10 for node in node_points]"
   ]
  },
  {
   "cell_type": "code",
   "execution_count": 7,
   "metadata": {},
   "outputs": [],
   "source": [
    "x = [math.cos(circum) for circum in node_circumference]\n",
    "y = [math.sin(circum) for circum in node_circumference]"
   ]
  },
  {
   "cell_type": "code",
   "execution_count": 8,
   "metadata": {},
   "outputs": [],
   "source": [
    "network_layout = dict(zip(node_points, zip(x, y)))"
   ]
  },
  {
   "cell_type": "code",
   "execution_count": 10,
   "metadata": {},
   "outputs": [],
   "source": [
    "network.layout_provider = StaticLayoutProvider(graph_layout=network_layout)\n",
    "plot.renderers.append(network)\n",
    "output_file('network.html')\n",
    "show(plot)"
   ]
  },
  {
   "cell_type": "code",
   "execution_count": 11,
   "metadata": {},
   "outputs": [
    {
     "name": "stderr",
     "output_type": "stream",
     "text": [
      "BokehDeprecationWarning: 'Oval' is deprecated and will be removed in Bokeh 3.0, use the Ellipse glyph instead\n"
     ]
    }
   ],
   "source": [
    "total_nodes = 10\n",
    "node_points = list(range(total_nodes))\n",
    "\n",
    "#Create the network\n",
    "\n",
    "plot = figure(x_range=(-1.1,1.1), y_range=(-1.1,1.1))\n",
    "network = GraphRenderer()\n",
    "\n",
    "#Customize your network\n",
    "\n",
    "network.node_renderer.data_source.add(node_points, 'index')\n",
    "network.node_renderer.glyph = Oval(height=0.2, width=0.3, fill_color='green')\n",
    "network.edge_renderer.data_source.data = dict(start=[1]*total_nodes, end=node_points)"
   ]
  },
  {
   "cell_type": "code",
   "execution_count": 12,
   "metadata": {},
   "outputs": [],
   "source": [
    "node_circumference = [node*2*math.pi/10 for node in node_points]\n",
    "x = [math.cos(circum) for circum in node_circumference]\n",
    "y = [math.sin(circum) for circum in node_circumference]\n",
    "\n",
    "network_layout = dict(zip(node_points, zip(x, y)))\n",
    "network.layout_provider = StaticLayoutProvider(graph_layout=network_layout)\n",
    "\n",
    "#Function that outputs the quadratic path\n",
    "\n",
    "values = [value/100. for value in range(100)]"
   ]
  },
  {
   "cell_type": "code",
   "execution_count": 13,
   "metadata": {},
   "outputs": [],
   "source": [
    "def quad_path(start, end, control, values):\n",
    "    return [(1-value)**2*start + 2*(1-value)*value*control + value**2*end for value in values]"
   ]
  },
  {
   "cell_type": "code",
   "execution_count": 14,
   "metadata": {},
   "outputs": [],
   "source": [
    "x_point, y_point = [], []\n",
    "\n",
    "#Store the starting and ending points\n",
    "\n",
    "x_start, y_start = network_layout[0]"
   ]
  },
  {
   "cell_type": "code",
   "execution_count": 15,
   "metadata": {},
   "outputs": [],
   "source": [
    "values = [value/100. for value in range(100)]\n",
    "for node in node_points:\n",
    "    x_end, y_end = network_layout[node]\n",
    "    x_point.append(quad_path(x_start, x_end, 0, values))\n",
    "    y_point.append(quad_path(y_start, y_end, 0, values))"
   ]
  },
  {
   "cell_type": "code",
   "execution_count": 16,
   "metadata": {},
   "outputs": [],
   "source": [
    "network.edge_renderer.data_source.data['xs'] = x_point\n",
    "network.edge_renderer.data_source.data['ys'] = y_point\n",
    "\n",
    "#Output the plot\n",
    "\n",
    "plot.renderers.append(network)\n",
    "output_file(\"quad_path.html\")\n",
    "show(plot)"
   ]
  },
  {
   "cell_type": "code",
   "execution_count": 17,
   "metadata": {},
   "outputs": [],
   "source": [
    "from bokeh.sampledata import us_states\n",
    "from bokeh.plotting import figure, show, output_file\n",
    "from bokeh.models import HoverTool"
   ]
  },
  {
   "cell_type": "code",
   "execution_count": 18,
   "metadata": {},
   "outputs": [],
   "source": [
    "usa_data = us_states.data.copy()"
   ]
  },
  {
   "cell_type": "code",
   "execution_count": 19,
   "metadata": {},
   "outputs": [],
   "source": [
    "del usa_data[\"HI\"]\n",
    "del usa_data[\"AK\"]"
   ]
  },
  {
   "cell_type": "code",
   "execution_count": 20,
   "metadata": {},
   "outputs": [],
   "source": [
    "longitude = [usa_data[long][\"lons\"] for long in usa_data]\n",
    "latitude = [usa_data[lat][\"lats\"] for lat in usa_data]"
   ]
  },
  {
   "cell_type": "code",
   "execution_count": 21,
   "metadata": {},
   "outputs": [],
   "source": [
    "hover_tool = HoverTool(tooltips = [('Longitude', '@x'),('Latitude', '@y')]) "
   ]
  },
  {
   "cell_type": "code",
   "execution_count": 22,
   "metadata": {},
   "outputs": [],
   "source": [
    "plot = figure(title=\"The 3 safest states in the USA\", tools = [hover_tool])"
   ]
  },
  {
   "cell_type": "code",
   "execution_count": 23,
   "metadata": {},
   "outputs": [],
   "source": [
    "plot.patches(longitude, latitude, line_color=\"red\", line_width=2)\n",
    "\n",
    "#Mapping the longitude and latitude information into lists\n",
    "\n",
    "long_list = [-69.44, -72.57, -71.57]\n",
    "\n",
    "lat_list = [45.25, 44.55, 43.19]"
   ]
  },
  {
   "cell_type": "code",
   "execution_count": 24,
   "metadata": {},
   "outputs": [],
   "source": [
    "plot.diamond(long_list, lat_list, size=15, color='yellow')\n",
    "\n",
    "# output the plot\n",
    "\n",
    "output_file(\"safe.html\")\n",
    "\n",
    "show(plot)\n"
   ]
  },
  {
   "cell_type": "code",
   "execution_count": 27,
   "metadata": {},
   "outputs": [],
   "source": [
    "array_x =np.array([1,2,3,4,5,6])\n",
    "\n",
    "array_y = np.array([5,6,7,8,9,10])\n",
    "\n",
    "#Creating a line plot\n",
    "\n",
    "plot = figure(output_backend = 'webgl')\n",
    "\n",
    "plot.line(array_x, array_y)\n",
    "\n",
    "#Output the plot\n",
    "\n",
    "output_file('numpy_line.html')\n",
    "\n",
    "show(plot)"
   ]
  },
  {
   "cell_type": "code",
   "execution_count": 30,
   "metadata": {},
   "outputs": [
    {
     "data": {
      "text/plain": [
       "'C:\\\\Users\\\\stpratapwarr\\\\Deep Learning\\\\Bokeh\\\\safe_states.png'"
      ]
     },
     "execution_count": 30,
     "metadata": {},
     "output_type": "execute_result"
    }
   ],
   "source": [
    "export_png(plot, filename=\"safe_states.png\")"
   ]
  },
  {
   "cell_type": "code",
   "execution_count": null,
   "metadata": {},
   "outputs": [],
   "source": []
  }
 ],
 "metadata": {
  "kernelspec": {
   "display_name": "Python 3",
   "language": "python",
   "name": "python3"
  },
  "language_info": {
   "codemirror_mode": {
    "name": "ipython",
    "version": 3
   },
   "file_extension": ".py",
   "mimetype": "text/x-python",
   "name": "python",
   "nbconvert_exporter": "python",
   "pygments_lexer": "ipython3",
   "version": "3.8.5"
  }
 },
 "nbformat": 4,
 "nbformat_minor": 4
}
